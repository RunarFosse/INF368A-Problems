{
 "cells": [
  {
   "cell_type": "code",
   "execution_count": 1,
   "metadata": {},
   "outputs": [],
   "source": [
    "from bandit import Bandits_one\n",
    "from mab import EpsilonGreedy"
   ]
  },
  {
   "cell_type": "markdown",
   "metadata": {},
   "source": [
    "# Part 2 - Report"
   ]
  },
  {
   "cell_type": "markdown",
   "metadata": {},
   "source": [
    "### Exercise 8"
   ]
  },
  {
   "cell_type": "code",
   "execution_count": null,
   "metadata": {},
   "outputs": [],
   "source": [
    "env = Bandits_one()"
   ]
  },
  {
   "cell_type": "markdown",
   "metadata": {},
   "source": [
    "First we run the Epsilon-greedy MAB algorithm on the environment for 1000 episodes, 20 times."
   ]
  },
  {
   "cell_type": "code",
   "execution_count": null,
   "metadata": {},
   "outputs": [],
   "source": [
    "# Epsilon-greedy model\n",
    "agent = EpsilonGreedy()\n",
    "observation, reward, terminated, truncated, info = env.reset()\n",
    "for episode in range(1, 1001):\n",
    "    action = agent.sample()\n",
    "    observation, reward, terminated, truncated, info = env.step(action)\n",
    "\n",
    "    agent.update(action, reward, episode)\n",
    "\n",
    "    if terminated or truncated:\n",
    "        observation, reward, terminated, truncated, info = env.reset()"
   ]
  },
  {
   "cell_type": "markdown",
   "metadata": {},
   "source": [
    "Then we run decaying Epsilon-greedy model the same number of times."
   ]
  },
  {
   "cell_type": "code",
   "execution_count": null,
   "metadata": {},
   "outputs": [],
   "source": [
    "# Decaying Epsilon-greedy model\n",
    "agent = EpsilonGreedy(alpha=0.5)\n",
    "observation, reward, terminated, truncated, info = env.reset()\n",
    "for episode in range(1, 1001):\n",
    "    action = agent.sample()\n",
    "    observation, reward, terminated, truncated, info = env.step(action)\n",
    "\n",
    "    agent.update(action, reward, episode)\n",
    "\n",
    "    if terminated or truncated:\n",
    "        observation, reward, terminated, truncated, info = env.reset()"
   ]
  }
 ],
 "metadata": {
  "kernelspec": {
   "display_name": "Python 3",
   "language": "python",
   "name": "python3"
  },
  "language_info": {
   "codemirror_mode": {
    "name": "ipython",
    "version": 3
   },
   "file_extension": ".py",
   "mimetype": "text/x-python",
   "name": "python",
   "nbconvert_exporter": "python",
   "pygments_lexer": "ipython3",
   "version": "3.8.5"
  }
 },
 "nbformat": 4,
 "nbformat_minor": 2
}

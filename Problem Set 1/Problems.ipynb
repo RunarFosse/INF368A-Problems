{
 "cells": [
  {
   "cell_type": "markdown",
   "metadata": {},
   "source": [
    "# Part 1 - Problems"
   ]
  },
  {
   "cell_type": "markdown",
   "metadata": {},
   "source": [
    "Neceesary imports"
   ]
  },
  {
   "cell_type": "code",
   "execution_count": 1,
   "metadata": {},
   "outputs": [],
   "source": [
    "import matplotlib.pyplot as plt"
   ]
  },
  {
   "cell_type": "markdown",
   "metadata": {},
   "source": [
    "### Exercise 1 - Characterizing distributions\n",
    "\n",
    "Consider interacting with a slot-machine which returns the following amount of money\n",
    "R: with probabiliy 0.35 it returns nothing; with probability 0.3 it returns 5$; with\n",
    "probability 0.25 it returns 10$; with probability 0.1 it returns 20$."
   ]
  },
  {
   "cell_type": "markdown",
   "metadata": {},
   "source": [
    "1. Plot the distribution of P(R)?"
   ]
  },
  {
   "cell_type": "code",
   "execution_count": 2,
   "metadata": {},
   "outputs": [
    {
     "data": {
      "image/png": "[encoded data removed]",
      "text/plain": [
       "<Figure size 640x480 with 1 Axes>"
      ]
     },
     "metadata": {},
     "output_type": "display_data"
    }
   ],
   "source": [
    "R = [0.35, 0.3, 0.25, 0.1]\n",
    "money = [0, 5, 10, 20]\n",
    "\n",
    "plt.bar(money, R)\n",
    "plt.xlabel('Money')\n",
    "plt.ylabel('P(R)')\n",
    "plt.title('Distribution of P(R)')\n",
    "plt.show()"
   ]
  },
  {
   "cell_type": "markdown",
   "metadata": {},
   "source": [
    "### Exercise 2 - Bayes' formula\n",
    "\n",
    "We can easily proce the Bayes' formula using only the product rule!\n",
    "\n",
    "$$ \\begin{align*}\n",
    "    P(X|Y) &= \\frac{P(X|Y)P(Y)}{P(Y)} \\\\\n",
    "    &= \\frac{P(X,Y)}{P(Y)} \\\\\n",
    "    &= \\frac{P(Y,X)}{P(Y)} \\\\\n",
    "    &=  \\frac{P(Y|X)P(X)}{P(Y)}\n",
    "    & & & & & \\square\n",
    "\\end{align*}\n",
    "$$"
   ]
  },
  {
   "cell_type": "markdown",
   "metadata": {},
   "source": [
    "### Exercise 5 - RL Assumptions\n",
    "\n",
    "Considering the scenario where a company is developing a software for streamlining the hiring process with reinforcement learning.\n",
    "\n",
    "Whether the choice of RL is sensible or not really depends on the approach rather than as a whole. Its quality also hinges on the correctness of our initial assumptions.\n",
    "\n",
    "The different properties of reinforcement learning include a delayed feedback signal, a time dimension and an environment. The delayed feedback signal is a property which could be beneficial in a hiring process (as we generally do not know how good a certain candidate is until after we've hired them). \n",
    "\n",
    "The time dimension and environment's usefulness really instead depends on how good the specific representations are. This hold for the choice of algorithm as well, as some algorithms could fit the problem very well given the initial assumptions (while others may not).\n",
    "\n",
    "In conclusion, given the diffuse choice of \"using RL to develop an artificial interviewing agent\" it will be hard to decide its sensibility."
   ]
  },
  {
   "cell_type": "markdown",
   "metadata": {},
   "source": [
    "### Exercise 6 - MAB Assumptions\n",
    "\n",
    "Considering the given scenario with an epidemic, deployement of three different vaccines, and choosing to use multi-armed bandits as a tool for selecting the most effective of these vaccines.\n",
    "\n",
    "In contrast to Exercise 5, this exercise's choice is clearly sensible!\n",
    "The multi-armed bandit model is an effective tool at balancing \"exploration\" and \"exploitation\" in such a way that given enough runtime, we eventually converge at the (or a) optimal policy.\n",
    "\n",
    "If we represent each vaccine as an action, and the rewards as how effective a given vaccine is. Then the expected rewards estimated within the MAB models will represent an estimation on the effectiveness of each vaccine.\n",
    "\n",
    "Selecting the action with the highest expected reward would then be equivalent to choosing the vaccine with the highest expected success rate.\n",
    "\n",
    "In conclusion, this choice is very sensible and is a very typical problem solved by multi-armed bandit models."
   ]
  },
  {
   "cell_type": "markdown",
   "metadata": {},
   "source": [
    "### Exercise 7 - Hoeffding's Inequality\n",
    "\n",
    "Hoeffding's Inequality is this:\n",
    "\n",
    "$$ P(E[X] > \\hat{E}^{(t)}[X] + u) \\leq e^{-2tu^2}$$\n",
    "\n",
    "Tossing a biased coin $C$ for $10$ samples. We have that $\\hat{E}[C] = 0.5$.\n",
    "\n",
    "Using Hoeffding's Inequality we can evaluate the probability that we are underestimating the true expected value $E[C]$ by $0.01$, $0.1$ and $0.5$ like this:\n",
    "\n",
    "$$ P(E[C] > \\hat{E}^{(10)}[C] + 0.01) = P(E[C] > 0.51) \\leq e^{-2 \\cdot 10 \\cdot (0.01)^2} ≈ 0.9980$$\n",
    "\n",
    "$$ P(E[C] > \\hat{E}^{(10)}[C] + 0.1) = P(E[C] > 0.6) \\leq e^{-2 \\cdot 10 \\cdot (0.1)^2} ≈ 0.8187$$\n",
    "\n",
    "$$ P(E[C] > \\hat{E}^{(10)}[C] + 0.5) = P(E[C] > 1.0) \\leq e^{-2 \\cdot 10 \\cdot (0.5)^2} ≈ 0.0067$$\n",
    "\n",
    "Therefore we can conclude that we are probably underestimating the true expected value $E[C]$ by somewhere between 0.1 and 0.5."
   ]
  }
 ],
 "metadata": {
  "kernelspec": {
   "display_name": "Python 3",
   "language": "python",
   "name": "python3"
  },
  "language_info": {
   "codemirror_mode": {
    "name": "ipython",
    "version": 3
   },
   "file_extension": ".py",
   "mimetype": "text/x-python",
   "name": "python",
   "nbconvert_exporter": "python",
   "pygments_lexer": "ipython3",
   "version": "3.11.4"
  }
 },
 "nbformat": 4,
 "nbformat_minor": 2
}
